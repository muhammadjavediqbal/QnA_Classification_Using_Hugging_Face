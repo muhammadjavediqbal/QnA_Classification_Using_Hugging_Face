{
  "cells": [
    {
      "cell_type": "code",
      "execution_count": 1,
      "metadata": {
        "colab": {
          "base_uri": "https://localhost:8080/"
        },
        "id": "q1MMB-itJo08",
        "outputId": "cffc1836-aed9-463a-b239-7ca96ebf49d8"
      },
      "outputs": [
        {
          "name": "stdout",
          "output_type": "stream",
          "text": [
            "Collecting transformers\n",
            "  Using cached transformers-4.30.2-py3-none-any.whl (7.2 MB)\n",
            "Collecting tokenizers!=0.11.3,<0.14,>=0.11.1\n",
            "  Using cached tokenizers-0.13.3-cp310-cp310-win_amd64.whl (3.5 MB)\n",
            "Collecting huggingface-hub<1.0,>=0.14.1\n",
            "  Using cached huggingface_hub-0.15.1-py3-none-any.whl (236 kB)\n",
            "Collecting requests\n",
            "  Using cached requests-2.31.0-py3-none-any.whl (62 kB)\n",
            "Collecting pyyaml>=5.1\n",
            "  Using cached PyYAML-6.0-cp310-cp310-win_amd64.whl (151 kB)\n",
            "Requirement already satisfied: packaging>=20.0 in c:\\users\\muhammad javed iqbal\\downloads\\new folder\\session\\lib\\site-packages (from transformers) (23.1)\n",
            "Collecting tqdm>=4.27\n",
            "  Using cached tqdm-4.65.0-py3-none-any.whl (77 kB)\n",
            "Collecting safetensors>=0.3.1\n",
            "  Using cached safetensors-0.3.1-cp310-cp310-win_amd64.whl (263 kB)\n",
            "Collecting regex!=2019.12.17\n",
            "  Using cached regex-2023.6.3-cp310-cp310-win_amd64.whl (268 kB)\n",
            "Collecting numpy>=1.17\n",
            "  Using cached numpy-1.25.0-cp310-cp310-win_amd64.whl (15.0 MB)\n",
            "Requirement already satisfied: filelock in c:\\users\\muhammad javed iqbal\\downloads\\new folder\\session\\lib\\site-packages (from transformers) (3.12.2)\n",
            "Requirement already satisfied: typing-extensions>=3.7.4.3 in c:\\users\\muhammad javed iqbal\\downloads\\new folder\\session\\lib\\site-packages (from huggingface-hub<1.0,>=0.14.1->transformers) (4.6.3)\n",
            "Collecting fsspec\n",
            "  Using cached fsspec-2023.6.0-py3-none-any.whl (163 kB)\n",
            "Requirement already satisfied: colorama in c:\\users\\muhammad javed iqbal\\downloads\\new folder\\session\\lib\\site-packages (from tqdm>=4.27->transformers) (0.4.6)\n",
            "Collecting charset-normalizer<4,>=2\n",
            "  Downloading charset_normalizer-3.1.0-cp310-cp310-win_amd64.whl (97 kB)\n",
            "     -------------------------------------- 97.1/97.1 kB 620.2 kB/s eta 0:00:00\n",
            "Collecting certifi>=2017.4.17\n",
            "  Using cached certifi-2023.5.7-py3-none-any.whl (156 kB)\n",
            "Collecting urllib3<3,>=1.21.1\n",
            "  Using cached urllib3-2.0.3-py3-none-any.whl (123 kB)\n",
            "Collecting idna<4,>=2.5\n",
            "  Using cached idna-3.4-py3-none-any.whl (61 kB)\n",
            "Installing collected packages: tokenizers, safetensors, urllib3, tqdm, regex, pyyaml, numpy, idna, fsspec, charset-normalizer, certifi, requests, huggingface-hub, transformers\n",
            "Successfully installed certifi-2023.5.7 charset-normalizer-3.1.0 fsspec-2023.6.0 huggingface-hub-0.15.1 idna-3.4 numpy-1.25.0 pyyaml-6.0 regex-2023.6.3 requests-2.31.0 safetensors-0.3.1 tokenizers-0.13.3 tqdm-4.65.0 transformers-4.30.2 urllib3-2.0.3\n",
            "Note: you may need to restart the kernel to use updated packages.\n"
          ]
        },
        {
          "name": "stderr",
          "output_type": "stream",
          "text": [
            "\n",
            "[notice] A new release of pip available: 22.3.1 -> 23.1.2\n",
            "[notice] To update, run: c:\\Users\\Muhammad Javed Iqbal\\Downloads\\New folder\\session\\Scripts\\python.exe -m pip install --upgrade pip\n"
          ]
        }
      ],
      "source": [
        "pip install transformers"
      ]
    },
    {
      "cell_type": "code",
      "execution_count": 2,
      "metadata": {
        "id": "Yv8LXdbXJqIZ"
      },
      "outputs": [
        {
          "name": "stderr",
          "output_type": "stream",
          "text": [
            "c:\\Users\\Muhammad Javed Iqbal\\Downloads\\New folder\\session\\lib\\site-packages\\tqdm\\auto.py:21: TqdmWarning: IProgress not found. Please update jupyter and ipywidgets. See https://ipywidgets.readthedocs.io/en/stable/user_install.html\n",
            "  from .autonotebook import tqdm as notebook_tqdm\n"
          ]
        }
      ],
      "source": [
        "from transformers import pipeline"
      ]
    },
    {
      "cell_type": "code",
      "execution_count": 4,
      "metadata": {
        "colab": {
          "base_uri": "https://localhost:8080/"
        },
        "id": "XT6-Bj-WJu8Y",
        "outputId": "b48d7063-bb73-44d7-e8e5-46fcb7a31caf"
      },
      "outputs": [
        {
          "name": "stderr",
          "output_type": "stream",
          "text": [
            "No model was supplied, defaulted to distilbert-base-cased-distilled-squad and revision 626af31 (https://huggingface.co/distilbert-base-cased-distilled-squad).\n",
            "Using a pipeline without specifying a model name and revision in production is not recommended.\n"
          ]
        }
      ],
      "source": [
        "nlp = pipeline(\"question-answering\")"
      ]
    },
    {
      "cell_type": "code",
      "execution_count": 14,
      "metadata": {
        "id": "1PRxk9ATJ1ir"
      },
      "outputs": [],
      "source": [
        "context = \"Hugging Face is a company based in New York City that specializes in natural language processing and provides state-of-the-art models and tools.\"\n",
        "question = \"What does Hugging Face specialize in?\"\n"
      ]
    },
    {
      "cell_type": "code",
      "execution_count": 15,
      "metadata": {
        "id": "Xp4ZkRv0J7TI"
      },
      "outputs": [],
      "source": [
        "result = nlp(question=question, context=context)"
      ]
    },
    {
      "cell_type": "code",
      "execution_count": 16,
      "metadata": {
        "id": "B8TCH8D2J9s1"
      },
      "outputs": [],
      "source": [
        "answer = result[\"answer\"]"
      ]
    },
    {
      "cell_type": "code",
      "execution_count": 17,
      "metadata": {
        "colab": {
          "base_uri": "https://localhost:8080/"
        },
        "id": "jZLyPx-GKCDW",
        "outputId": "c55369cf-0ee4-47a1-bbbf-1988b49bb233"
      },
      "outputs": [
        {
          "name": "stdout",
          "output_type": "stream",
          "text": [
            "Question: What does Hugging Face specialize in?\n",
            "Answer: natural language processing\n"
          ]
        }
      ],
      "source": [
        "print(\"Question:\", question)\n",
        "print(\"Answer:\", answer)"
      ]
    },
    {
      "cell_type": "code",
      "execution_count": null,
      "metadata": {
        "id": "VcUogjvgKD8t"
      },
      "outputs": [],
      "source": []
    }
  ],
  "metadata": {
    "colab": {
      "provenance": []
    },
    "kernelspec": {
      "display_name": "Python 3",
      "name": "python3"
    },
    "language_info": {
      "codemirror_mode": {
        "name": "ipython",
        "version": 3
      },
      "file_extension": ".py",
      "mimetype": "text/x-python",
      "name": "python",
      "nbconvert_exporter": "python",
      "pygments_lexer": "ipython3",
      "version": "3.10.9"
    }
  },
  "nbformat": 4,
  "nbformat_minor": 0
}
